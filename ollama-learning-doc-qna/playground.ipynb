{
 "cells": [
  {
   "cell_type": "code",
   "execution_count": 5,
   "metadata": {},
   "outputs": [
    {
     "data": {
      "text/plain": [
       "False"
      ]
     },
     "execution_count": 5,
     "metadata": {},
     "output_type": "execute_result"
    }
   ],
   "source": [
    "import os\n",
    "from dotenv import load_dotenv\n",
    "\n",
    "from langchain_community.llms import Ollama\n",
    "from langchain_core.prompts import ChatPromptTemplate\n",
    "from langchain_core.output_parsers import StrOutputParser\n",
    "\n",
    "import streamlit as st\n",
    "\n",
    "load_dotenv()"
   ]
  },
  {
   "cell_type": "code",
   "execution_count": 8,
   "metadata": {},
   "outputs": [],
   "source": [
    "prompt = ChatPromptTemplate.from_messages(\n",
    "    [\n",
    "        (\"system\", \"You are a helpful assistant. Please respond to the question asked\"),\n",
    "        (\"user\", \"{question}\"),\n",
    "    ]\n",
    ")\n",
    "\n",
    "output_parser = StrOutputParser()\n"
   ]
  },
  {
   "cell_type": "code",
   "execution_count": null,
   "metadata": {},
   "outputs": [],
   "source": [
    "llm = Ollama(model=\"llama3.2\")  "
   ]
  },
  {
   "cell_type": "code",
   "execution_count": 9,
   "metadata": {},
   "outputs": [],
   "source": [
    "chain = prompt | llm | output_parser"
   ]
  },
  {
   "cell_type": "code",
   "execution_count": 14,
   "metadata": {},
   "outputs": [
    {
     "data": {
      "text/plain": [
       "\"LangChain is indeed a significant development in the NFT (Non-Fungible Token) space, and I'd be happy to explain it to you.\\n\\nLangChain is an open-source platform that enables developers to build decentralized applications (dApps) on top of blockchain networks. It's designed to simplify the process of creating NFTs, digital collectibles, and other types of unique digital assets.\\n\\nThe main focus of LangChain is to provide a set of tools and libraries that allow developers to create, manage, and trade NFTs in a more efficient and scalable way. The platform is built on top of Ethereum's Polygon (MATIC) blockchain, but it also supports other chains like Binance Smart Chain and Solana.\\n\\nLangChain's key features include:\\n\\n1. **NFT creation**: LangChain provides an easy-to-use interface for creating NFTs, which can be customized with unique properties, metadata, and assets.\\n2. **Tokenized assets**: The platform enables the creation of tokenized assets, such as art, music, and collectibles, which can be traded on cryptocurrency exchanges or through peer-to-peer marketplaces.\\n3. **Decentralized storage**: LangChain offers decentralized storage solutions for NFTs, allowing them to be stored and retrieved without relying on centralized platforms like IPFS.\\n4. **Smart contract functionality**: The platform supports the creation of custom smart contracts that can manage NFTs, including features like token transfers, auctions, and more.\\n\\nLangChain has gained significant attention in the NFT community due to its potential to simplify the process of creating and trading unique digital assets. Its focus on decentralization, scalability, and user-friendliness makes it an attractive option for developers and collectors alike.\\n\\nI hope this explanation helps you understand LangChain better! Do you have any specific questions or topics related to LangChain that I can help with?\""
      ]
     },
     "execution_count": 14,
     "metadata": {},
     "output_type": "execute_result"
    }
   ],
   "source": [
    "chain.invoke({\"question\":\"What is LangChain this is huge in this can you just get?\"})"
   ]
  },
  {
   "cell_type": "code",
   "execution_count": null,
   "metadata": {},
   "outputs": [],
   "source": []
  }
 ],
 "metadata": {
  "kernelspec": {
   "display_name": "ollama",
   "language": "python",
   "name": "python3"
  },
  "language_info": {
   "codemirror_mode": {
    "name": "ipython",
    "version": 3
   },
   "file_extension": ".py",
   "mimetype": "text/x-python",
   "name": "python",
   "nbconvert_exporter": "python",
   "pygments_lexer": "ipython3",
   "version": "3.10.15"
  }
 },
 "nbformat": 4,
 "nbformat_minor": 2
}
