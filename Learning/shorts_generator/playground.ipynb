{
 "cells": [
  {
   "cell_type": "code",
   "execution_count": 1,
   "metadata": {},
   "outputs": [],
   "source": [
    "import os\n",
    "import requests\n",
    "import json\n",
    "\n"
   ]
  },
  {
   "cell_type": "markdown",
   "metadata": {},
   "source": [
    "### Image Generation"
   ]
  },
  {
   "cell_type": "code",
   "execution_count": 2,
   "metadata": {},
   "outputs": [
    {
     "name": "stdout",
     "output_type": "stream",
     "text": [
      "Collecting ffmpeg-python\n",
      "  Downloading ffmpeg_python-0.2.0-py3-none-any.whl.metadata (1.7 kB)\n",
      "Collecting future (from ffmpeg-python)\n",
      "  Downloading future-1.0.0-py3-none-any.whl.metadata (4.0 kB)\n",
      "Downloading ffmpeg_python-0.2.0-py3-none-any.whl (25 kB)\n",
      "Downloading future-1.0.0-py3-none-any.whl (491 kB)\n",
      "Installing collected packages: future, ffmpeg-python\n",
      "Successfully installed ffmpeg-python-0.2.0 future-1.0.0\n"
     ]
    }
   ],
   "source": [
    "!pip install ffmpeg-python\n"
   ]
  },
  {
   "cell_type": "code",
   "execution_count": 136,
   "metadata": {},
   "outputs": [],
   "source": [
    "# def download_image(prompt, fname):\n",
    "#     url = f\"https://pollinations.ai/p/{prompt}\"\n",
    "#     print(f'f:\\\\Gen_AI\\\\git_gen_ai\\\\Learning\\\\shorts_generator\\\\files\\\\{fname}.jpg')\n",
    "#     response = requests.get(url)\n",
    "#     with open(f'f:\\\\Gen_AI\\\\git_gen_ai\\\\Learning\\\\shorts_generator\\\\files\\\\{fname}.jpg', 'wb') as file:\n",
    "#         file.write(response.content)\n",
    "#     print('Image downloaded!')\n"
   ]
  },
  {
   "cell_type": "code",
   "execution_count": 14,
   "metadata": {},
   "outputs": [],
   "source": [
    "from PIL import Image, ImageOps\n",
    "import requests\n",
    "from io import BytesIO\n",
    "\n",
    "def download_image(prompt, fname, target_width=720, target_height=1280, quality=20):\n",
    "    \"\"\"\n",
    "    Downloads and downsizes an image to YouTube Shorts dimensions, maintaining aspect ratio.\n",
    "\n",
    "    Parameters:\n",
    "    - prompt (str): The image prompt for the URL.\n",
    "    - fname (str): The filename to save the image as.\n",
    "    - target_width (int): Desired width for YouTube Shorts (default: 720).\n",
    "    - target_height (int): Desired height for YouTube Shorts (default: 1280).\n",
    "    - quality (int): Image quality percentage (1-100, default: 75).\n",
    "    \"\"\"\n",
    "    \n",
    "    # Download image\n",
    "    url = f\"https://pollinations.ai/p/{prompt}\"\n",
    "    response = requests.get(url)\n",
    "\n",
    "    if response.status_code == 200:\n",
    "        img = Image.open(BytesIO(response.content))\n",
    "\n",
    "        # Resize while maintaining aspect ratio\n",
    "        img.thumbnail((target_width, target_height), Image.LANCZOS)\n",
    "\n",
    "        # Add black padding to fit exact Shorts dimensions\n",
    "        img_with_padding = ImageOps.pad(img, (target_width, target_height), color=(0, 0, 0))\n",
    "\n",
    "        # Save the image with reduced quality\n",
    "        output_path = f'f:\\\\Gen_AI\\\\git_gen_ai\\\\Learning\\\\shorts_generator\\\\files\\\\{fname}.jpg'\n",
    "        img_with_padding.save(output_path, format='JPEG', quality=quality)\n",
    "\n",
    "        print(f\"✅ Image downloaded and resized to {target_width}x{target_height} at {quality}% quality: {output_path}\")\n",
    "    \n",
    "    else:\n",
    "        print(f\"⚠️ Failed to download image. Status code: {response.status_code}\")\n"
   ]
  },
  {
   "cell_type": "code",
   "execution_count": 15,
   "metadata": {},
   "outputs": [
    {
     "name": "stdout",
     "output_type": "stream",
     "text": [
      "✅ Image downloaded and resized to 720x1280 at 20% quality: f:\\Gen_AI\\git_gen_ai\\Learning\\shorts_generator\\files\\test.jpg\n"
     ]
    }
   ],
   "source": [
    "download_image(\"conceptual_isometric_world_of_pollinations_ai_surreal_hyperrealistic_digital_garden\", \"test\")"
   ]
  },
  {
   "cell_type": "code",
   "execution_count": 6,
   "metadata": {},
   "outputs": [
    {
     "ename": "ModuleNotFoundError",
     "evalue": "No module named 'pyaudioop'",
     "output_type": "error",
     "traceback": [
      "\u001b[31m---------------------------------------------------------------------------\u001b[39m",
      "\u001b[31mModuleNotFoundError\u001b[39m                       Traceback (most recent call last)",
      "\u001b[36mFile \u001b[39m\u001b[32mc:\\Users\\ashis\\miniconda3\\envs\\autogen\\Lib\\site-packages\\pydub\\utils.py:14\u001b[39m\n\u001b[32m     13\u001b[39m \u001b[38;5;28;01mtry\u001b[39;00m:\n\u001b[32m---> \u001b[39m\u001b[32m14\u001b[39m     \u001b[38;5;28;01mimport\u001b[39;00m\u001b[38;5;250m \u001b[39m\u001b[34;01maudioop\u001b[39;00m\n\u001b[32m     15\u001b[39m \u001b[38;5;28;01mexcept\u001b[39;00m \u001b[38;5;167;01mImportError\u001b[39;00m:\n",
      "\u001b[31mModuleNotFoundError\u001b[39m: No module named 'audioop'",
      "\nDuring handling of the above exception, another exception occurred:\n",
      "\u001b[31mModuleNotFoundError\u001b[39m                       Traceback (most recent call last)",
      "\u001b[36mCell\u001b[39m\u001b[36m \u001b[39m\u001b[32mIn[6]\u001b[39m\u001b[32m, line 4\u001b[39m\n\u001b[32m      1\u001b[39m \u001b[38;5;66;03m# Base URL\u001b[39;00m\n\u001b[32m      2\u001b[39m BASE_URL = \u001b[33m\"\u001b[39m\u001b[33mhttps://text.pollinations.ai\u001b[39m\u001b[33m\"\u001b[39m\n\u001b[32m----> \u001b[39m\u001b[32m4\u001b[39m \u001b[38;5;28;01mfrom\u001b[39;00m\u001b[38;5;250m \u001b[39m\u001b[34;01mpydub\u001b[39;00m\u001b[38;5;250m \u001b[39m\u001b[38;5;28;01mimport\u001b[39;00m AudioSegment\n\u001b[32m      6\u001b[39m \u001b[38;5;28;01mdef\u001b[39;00m\u001b[38;5;250m \u001b[39m\u001b[34mgenerate_audio\u001b[39m(prompt, voice=\u001b[33m\"\u001b[39m\u001b[33malloy\u001b[39m\u001b[33m\"\u001b[39m, method=\u001b[33m\"\u001b[39m\u001b[33mGET\u001b[39m\u001b[33m\"\u001b[39m, output_file=\u001b[33m\"\u001b[39m\u001b[33mgenerated_audio.mp3\u001b[39m\u001b[33m\"\u001b[39m):\n\u001b[32m      7\u001b[39m \u001b[38;5;250m    \u001b[39m\u001b[33;03m\"\"\"\u001b[39;00m\n\u001b[32m      8\u001b[39m \u001b[33;03m    Generate audio using the Audio Generation API.\u001b[39;00m\n\u001b[32m      9\u001b[39m \n\u001b[32m   (...)\u001b[39m\u001b[32m     17\u001b[39m \u001b[33;03m    - str: Path to the saved audio file or error message.\u001b[39;00m\n\u001b[32m     18\u001b[39m \u001b[33;03m    \"\"\"\u001b[39;00m\n",
      "\u001b[36mFile \u001b[39m\u001b[32mc:\\Users\\ashis\\miniconda3\\envs\\autogen\\Lib\\site-packages\\pydub\\__init__.py:1\u001b[39m\n\u001b[32m----> \u001b[39m\u001b[32m1\u001b[39m \u001b[38;5;28;01mfrom\u001b[39;00m\u001b[38;5;250m \u001b[39m\u001b[34;01m.\u001b[39;00m\u001b[34;01maudio_segment\u001b[39;00m\u001b[38;5;250m \u001b[39m\u001b[38;5;28;01mimport\u001b[39;00m AudioSegment\n",
      "\u001b[36mFile \u001b[39m\u001b[32mc:\\Users\\ashis\\miniconda3\\envs\\autogen\\Lib\\site-packages\\pydub\\audio_segment.py:11\u001b[39m\n\u001b[32m      9\u001b[39m \u001b[38;5;28;01mimport\u001b[39;00m\u001b[38;5;250m \u001b[39m\u001b[34;01mstruct\u001b[39;00m\n\u001b[32m     10\u001b[39m \u001b[38;5;28;01mfrom\u001b[39;00m\u001b[38;5;250m \u001b[39m\u001b[34;01m.\u001b[39;00m\u001b[34;01mlogging_utils\u001b[39;00m\u001b[38;5;250m \u001b[39m\u001b[38;5;28;01mimport\u001b[39;00m log_conversion, log_subprocess_output\n\u001b[32m---> \u001b[39m\u001b[32m11\u001b[39m \u001b[38;5;28;01mfrom\u001b[39;00m\u001b[38;5;250m \u001b[39m\u001b[34;01m.\u001b[39;00m\u001b[34;01mutils\u001b[39;00m\u001b[38;5;250m \u001b[39m\u001b[38;5;28;01mimport\u001b[39;00m mediainfo_json, fsdecode\n\u001b[32m     12\u001b[39m \u001b[38;5;28;01mimport\u001b[39;00m\u001b[38;5;250m \u001b[39m\u001b[34;01mbase64\u001b[39;00m\n\u001b[32m     13\u001b[39m \u001b[38;5;28;01mfrom\u001b[39;00m\u001b[38;5;250m \u001b[39m\u001b[34;01mcollections\u001b[39;00m\u001b[38;5;250m \u001b[39m\u001b[38;5;28;01mimport\u001b[39;00m namedtuple\n",
      "\u001b[36mFile \u001b[39m\u001b[32mc:\\Users\\ashis\\miniconda3\\envs\\autogen\\Lib\\site-packages\\pydub\\utils.py:16\u001b[39m\n\u001b[32m     14\u001b[39m     \u001b[38;5;28;01mimport\u001b[39;00m\u001b[38;5;250m \u001b[39m\u001b[34;01maudioop\u001b[39;00m\n\u001b[32m     15\u001b[39m \u001b[38;5;28;01mexcept\u001b[39;00m \u001b[38;5;167;01mImportError\u001b[39;00m:\n\u001b[32m---> \u001b[39m\u001b[32m16\u001b[39m     \u001b[38;5;28;01mimport\u001b[39;00m\u001b[38;5;250m \u001b[39m\u001b[34;01mpyaudioop\u001b[39;00m\u001b[38;5;250m \u001b[39m\u001b[38;5;28;01mas\u001b[39;00m\u001b[38;5;250m \u001b[39m\u001b[34;01maudioop\u001b[39;00m\n\u001b[32m     18\u001b[39m \u001b[38;5;28;01mif\u001b[39;00m sys.version_info >= (\u001b[32m3\u001b[39m, \u001b[32m0\u001b[39m):\n\u001b[32m     19\u001b[39m     basestring = \u001b[38;5;28mstr\u001b[39m\n",
      "\u001b[31mModuleNotFoundError\u001b[39m: No module named 'pyaudioop'"
     ]
    }
   ],
   "source": [
    "# Base URL\n",
    "BASE_URL = \"https://text.pollinations.ai\"\n",
    "\n",
    "from pydub import AudioSegment\n",
    "\n",
    "def generate_audio(prompt, voice=\"alloy\", method=\"GET\", output_file=\"generated_audio.mp3\"):\n",
    "    \"\"\"\n",
    "    Generate audio using the Audio Generation API.\n",
    "\n",
    "    Args:\n",
    "    - prompt (str): Text to be converted to audio.\n",
    "    - voice (str): Voice for the audio (default: \"alloy\").\n",
    "    - method (str): HTTP method (\"GET\" or \"POST\").\n",
    "    - output_file (str): Filename for the generated audio.\n",
    "\n",
    "    Returns:\n",
    "    - str: Path to the saved audio file or error message.\n",
    "    \"\"\"\n",
    "    \n",
    "    if method.upper() == \"GET\":\n",
    "        url = f\"{BASE_URL}/{prompt}?model=openai-audio&voice={voice}\"\n",
    "        try:\n",
    "            response = requests.get(url)\n",
    "\n",
    "            if response.status_code == 200:\n",
    "                with open(output_file, \"wb\") as f:\n",
    "                    f.write(response.content)\n",
    "                \n",
    "                sound = AudioSegment.from_file(output_file).export(output_file, format=\"mp3\", bitrate=\"8k\")\n",
    "                print(f\"✅ Audio saved as '{output_file}'\")\n",
    "\n",
    "                return output_file\n",
    "            else:\n",
    "                print(f\"❌ Error: {response.status_code}\")\n",
    "                return response.text\n",
    "\n",
    "        except Exception as e:\n",
    "            print(f\"❌ Exception: {e}\")\n",
    "            return str(e)\n",
    "\n",
    "    else:\n",
    "        print(\"❌ Invalid method. Use 'GET' or 'POST'\")\n",
    "        return \"Invalid method\""
   ]
  },
  {
   "cell_type": "code",
   "execution_count": null,
   "metadata": {},
   "outputs": [
    {
     "name": "stdout",
     "output_type": "stream",
     "text": [
      "✅ Audio saved as 'files/test.mp3'\n"
     ]
    },
    {
     "data": {
      "text/plain": [
       "'files/test.mp3'"
      ]
     },
     "execution_count": 158,
     "metadata": {},
     "output_type": "execute_result"
    }
   ],
   "source": [
    "generate_audio(\n",
    "        \"Get ready for breathtaking views! Let's explore the top highest places on Earth\", \n",
    "        voice=\"alloy\", \n",
    "        method=\"GET\", \n",
    "        output_file=f\"files/test.mp3\",\n",
    "    )"
   ]
  },
  {
   "cell_type": "markdown",
   "metadata": {},
   "source": [
    "### local Ollama - Script  Generation"
   ]
  },
  {
   "cell_type": "code",
   "execution_count": null,
   "metadata": {},
   "outputs": [
    {
     "name": "stdout",
     "output_type": "stream",
     "text": [
      "Response: Here's a script for a 30-second YouTube Shorts video on the topic \"Top Highest Places in the World Ranked as Top 5\":\n",
      "\n",
      "```\n",
      "{\n",
      "  \"0s-3s\": {\n",
      "    \"text\": \"Get ready for breathtaking views! Let's explore the top highest places on Earth\",\n",
      "    \"image_prompt\": \"Aerial view of a majestic mountain range with snow-capped peaks, sun rising behind it\"\n",
      "  },\n",
      "  \"4s-7s\": {\n",
      "    \"text\": \"From Mount Everest to Kilimanjaro, we'll take you on a journey to the roof of the world\",\n",
      "    \"image_prompt\": \"Close-up shot of Mount Everest's summit with a flag waving in the wind\"\n",
      "  },\n",
      "  \"8s-11s\": {\n",
      "    \"text\": \"Number 5: Mount Aconcagua, Argentina - The highest peak outside Asia at 22,841ft\",\n",
      "    \"image_prompt\": \"Panoramic view of Mount Aconcagua, with a snow-capped summit and surrounding mountains\"\n",
      "  },\n",
      "  \"12s-15s\": {\n",
      "    \"text\": \"Number 4: K2, Pakistan/China - The second-highest peak in the world at 28,251ft\",\n",
      "    \"image_prompt\": \"Dramatic shot of K2's rugged terrain, with snow and ice-covered peaks\"\n",
      "  },\n",
      "  \"16s-20s\": {\n",
      "    \"text\": \"Number 3: Kangchenjunga, Nepal/India - The third-highest peak in the world at 28,169ft\",\n",
      "    \"image_prompt\": \"Lush green forests and towering mountains of Kangchenjunga, with a misty atmosphere\"\n",
      "  },\n",
      "  \"21s-25s\": {\n",
      "    \"text\": \"Number 2: Mount Denali, Alaska/USA - The highest peak in North America at 20,310ft\",\n",
      "    \"image_prompt\": \"Snowy landscape of Mount Denali, with a majestic glacier and surrounding peaks\"\n",
      "  },\n",
      "  \"26s-30s\": {\n",
      "    \"text\": \"And the number one spot goes to... Mount Everest! The highest peak in the world at 29,029ft\",\n",
      "    \"image_prompt\": \"Iconic shot of Mount Everest's summit, with a flag waving in the wind and a breathtaking view\"\n",
      "  }\n",
      "}\n",
      "```\n",
      "\n",
      "This script is designed to be engaging, concise, and easy to visualize. Each section has a clear text description that will appear on screen for a specific time duration, along with an image prompt that captures the essence of the content.\n"
     ]
    }
   ],
   "source": [
    "import ollama\n",
    "\n",
    "# Replace 'llama2' with the name of your local model\n",
    "model_name = 'llama3.2:latest'  \n",
    "\n",
    "# Define the prompt\n",
    "prompt = \"\"\"\n",
    "You are a **YouTube Shorts content creator**.  \n",
    "Your task is to **write a simple 30-second video script** based on the provided details.  \n",
    "\n",
    "### 🎥 **Script Instructions:**  \n",
    "- **Divide the script into sections ( At max 10 sections only if needed, average around 5 sections)** with clear timestamps for each section.  \n",
    "- Each section should have a **text description** that will appear on the screen.  \n",
    "- Indicate the **time duration** for how long each section's text will remain on screen.  \n",
    "\n",
    "### 🎨 **Image Generation Instructions:**  \n",
    "- For each section, **generate an image prompt** that captures the essence of the content.  \n",
    "- The image prompts will be used to create visuals for the video.  \n",
    "- Ensure the prompts are **detailed and descriptive**, specifying the scenery, mood, and style.  \n",
    "- **Do not include more than 5 sections.**\n",
    "\n",
    "---\n",
    "\n",
    "### 🛑 **Output Format in JSON (Strictly Follow, keep SCRIPT and IMAGE_PROMPTS sections separate not mixed):**\n",
    "\n",
    "{\n",
    "    \"start_time-end_time\": {\n",
    "        \"text\" : content_of_the_script,\n",
    "        \"image_prompt\" : img_prompt\n",
    "    }\n",
    "}\n",
    "\n",
    "Example:\n",
    "{\n",
    "    '0s-3s': {\n",
    "        'text': \"Get ready for breathtaking views! Let's explore the top highest places on Earth\",\n",
    "        'image_prompt': 'Aerial view of a majestic mountain range with snow-capped peaks, sun rising behind it'\n",
    "    },\n",
    "    '4s-7s': {\n",
    "        'text': \"From Mount Everest to Kilimanjaro, we'll take you on a journey to the roof of the world\",\n",
    "        'image_prompt': \"Close-up shot of Mount Everest's summit with a flag waving in the wind\"\n",
    "    }\n",
    "}\n",
    "\n",
    "---\n",
    "**TOPIC:** Top highest places in the world ranked as top 5 and each sentence explaning one.  \n",
    "\n",
    "Make sure the **script is engaging, concise, and easy to visualize**.  ALSO IT HAS TO BE IN JSON FORMAT \n",
    "\"\"\"\n",
    "\n",
    "# Send the request\n",
    "response = ollama.chat(model=model_name, messages=[{\"role\": \"user\", \"content\": prompt}])\n",
    "\n",
    "# print(response)\n",
    "# Display the response\n",
    "print(\"Response:\", response['message']['content'])\n"
   ]
  },
  {
   "cell_type": "code",
   "execution_count": 109,
   "metadata": {},
   "outputs": [
    {
     "data": {
      "text/plain": [
       "{'0s-3s': {'text': \"Get ready for breathtaking views! Let's explore the top highest places on Earth\",\n",
       "  'image_prompt': 'Aerial view of a majestic mountain range with snow-capped peaks, sun rising behind it'},\n",
       " '4s-7s': {'text': \"From Mount Everest to Kilimanjaro, we'll take you on a journey to the roof of the world\",\n",
       "  'image_prompt': \"Close-up shot of Mount Everest's summit with a flag waving in the wind\"},\n",
       " '8s-11s': {'text': 'Number 5: Mount Aconcagua, Argentina - The highest peak outside Asia at 22,841ft',\n",
       "  'image_prompt': 'Panoramic view of Mount Aconcagua, with a snow-capped summit and surrounding mountains'},\n",
       " '12s-15s': {'text': 'Number 4: K2, Pakistan/China - The second-highest peak in the world at 28,251ft',\n",
       "  'image_prompt': \"Dramatic shot of K2's rugged terrain, with snow and ice-covered peaks\"},\n",
       " '16s-20s': {'text': 'Number 3: Kangchenjunga, Nepal/India - The third-highest peak in the world at 28,169ft',\n",
       "  'image_prompt': 'Lush green forests and towering mountains of Kangchenjunga, with a misty atmosphere'},\n",
       " '21s-25s': {'text': 'Number 2: Mount Denali, Alaska/USA - The highest peak in North America at 20,310ft',\n",
       "  'image_prompt': 'Snowy landscape of Mount Denali, with a majestic glacier and surrounding peaks'},\n",
       " '26s-30s': {'text': 'And the number one spot goes to... Mount Everest! The highest peak in the world at 29,029ft',\n",
       "  'image_prompt': \"Iconic shot of Mount Everest's summit, with a flag waving in the wind and a breathtaking view\"}}"
      ]
     },
     "execution_count": 109,
     "metadata": {},
     "output_type": "execute_result"
    }
   ],
   "source": [
    "script_data = json.loads(response['message']['content'].replace(\"\\n\",\"\").split(\"```\")[1].split(\"```\")[0])\n",
    "script_data\n"
   ]
  },
  {
   "cell_type": "code",
   "execution_count": 142,
   "metadata": {},
   "outputs": [
    {
     "name": "stdout",
     "output_type": "stream",
     "text": [
      "0s-3s Get ready for breathtaking views! Let's explore the top highest places on Earth Aerial view of a majestic mountain range with snow-capped peaks, sun rising behind it\n",
      "✅ Image downloaded and resized to 720x1280 at 20% quality: f:\\Gen_AI\\git_gen_ai\\Learning\\shorts_generator\\files\\0s-3s.jpg\n",
      "✅ Audio saved as 'files/0s-3s.mp3'\n",
      "4s-7s From Mount Everest to Kilimanjaro, we'll take you on a journey to the roof of the world Close-up shot of Mount Everest's summit with a flag waving in the wind\n",
      "✅ Image downloaded and resized to 720x1280 at 20% quality: f:\\Gen_AI\\git_gen_ai\\Learning\\shorts_generator\\files\\4s-7s.jpg\n",
      "✅ Audio saved as 'files/4s-7s.mp3'\n",
      "8s-11s Number 5: Mount Aconcagua, Argentina - The highest peak outside Asia at 22,841ft Panoramic view of Mount Aconcagua, with a snow-capped summit and surrounding mountains\n",
      "✅ Image downloaded and resized to 720x1280 at 20% quality: f:\\Gen_AI\\git_gen_ai\\Learning\\shorts_generator\\files\\8s-11s.jpg\n",
      "✅ Audio saved as 'files/8s-11s.mp3'\n",
      "12s-15s Number 4: K2, Pakistan/China - The second-highest peak in the world at 28,251ft Dramatic shot of K2's rugged terrain, with snow and ice-covered peaks\n",
      "✅ Image downloaded and resized to 720x1280 at 20% quality: f:\\Gen_AI\\git_gen_ai\\Learning\\shorts_generator\\files\\12s-15s.jpg\n",
      "✅ Audio saved as 'files/12s-15s.mp3'\n",
      "16s-20s Number 3: Kangchenjunga, Nepal/India - The third-highest peak in the world at 28,169ft Lush green forests and towering mountains of Kangchenjunga, with a misty atmosphere\n",
      "✅ Image downloaded and resized to 720x1280 at 20% quality: f:\\Gen_AI\\git_gen_ai\\Learning\\shorts_generator\\files\\16s-20s.jpg\n",
      "✅ Audio saved as 'files/16s-20s.mp3'\n",
      "21s-25s Number 2: Mount Denali, Alaska/USA - The highest peak in North America at 20,310ft Snowy landscape of Mount Denali, with a majestic glacier and surrounding peaks\n",
      "✅ Image downloaded and resized to 720x1280 at 20% quality: f:\\Gen_AI\\git_gen_ai\\Learning\\shorts_generator\\files\\21s-25s.jpg\n",
      "✅ Audio saved as 'files/21s-25s.mp3'\n",
      "26s-30s And the number one spot goes to... Mount Everest! The highest peak in the world at 29,029ft Iconic shot of Mount Everest's summit, with a flag waving in the wind and a breathtaking view\n",
      "✅ Image downloaded and resized to 720x1280 at 20% quality: f:\\Gen_AI\\git_gen_ai\\Learning\\shorts_generator\\files\\26s-30s.jpg\n",
      "✅ Audio saved as 'files/26s-30s.mp3'\n"
     ]
    }
   ],
   "source": [
    "for ts, val in script_data.items():\n",
    "    text, img_caption = val[\"text\"], val[\"image_prompt\"]\n",
    "    print(ts, text, img_caption)\n",
    "\n",
    "    download_image(\n",
    "        prompt=img_caption,\n",
    "        fname=ts\n",
    "    )\n",
    "\n",
    "    generate_audio(\n",
    "        text, \n",
    "        voice=\"alloy\", \n",
    "        method=\"GET\", \n",
    "        output_file=f\"files/{ts}.mp3\"\n",
    "    )\n",
    "\n",
    "    \n"
   ]
  },
  {
   "cell_type": "markdown",
   "metadata": {},
   "source": [
    "### Final Video Generation"
   ]
  },
  {
   "cell_type": "code",
   "execution_count": 8,
   "metadata": {},
   "outputs": [],
   "source": [
    "from moviepy import *\n",
    "from PIL import Image\n",
    "from moviepy import *\n",
    "from PIL import ImageFont\n",
    "\n",
    "\n",
    "import os"
   ]
  },
  {
   "cell_type": "code",
   "execution_count": null,
   "metadata": {},
   "outputs": [
    {
     "name": "stdout",
     "output_type": "stream",
     "text": [
      "0s-3s 5.42\n",
      "4s-7s 6.07\n",
      "8s-11s 10.05\n",
      "12s-15s 10.22\n",
      "16s-20s 11.01\n",
      "21s-25s 8.8\n",
      "26s-30s 9.86\n",
      "MoviePy - Building video highest_places_video.mp4.\n",
      "MoviePy - Writing audio in highest_places_videoTEMP_MPY_wvf_snd.mp3\n"
     ]
    },
    {
     "name": "stderr",
     "output_type": "stream",
     "text": [
      "                                                                      \r"
     ]
    },
    {
     "name": "stdout",
     "output_type": "stream",
     "text": [
      "MoviePy - Done.\n",
      "MoviePy - Writing video highest_places_video.mp4\n",
      "\n"
     ]
    },
    {
     "name": "stderr",
     "output_type": "stream",
     "text": [
      "                                                                          "
     ]
    },
    {
     "name": "stdout",
     "output_type": "stream",
     "text": [
      "MoviePy - Done !\n",
      "MoviePy - video ready highest_places_video.mp4\n",
      "✅ Video saved as highest_places_video.mp4\n"
     ]
    },
    {
     "name": "stderr",
     "output_type": "stream",
     "text": [
      "\r"
     ]
    }
   ],
   "source": [
    "\n",
    "# JSON data\n",
    "video_script = {\n",
    "  \"0s-3s\": {\n",
    "    \"text\": \"Get ready for breathtaking views! Let's explore the top highest places on Earth\",\n",
    "    \"image_prompt\": \"Aerial view of a majestic mountain range with snow-capped peaks, sun rising behind it\"\n",
    "  },\n",
    "  \"4s-7s\": {\n",
    "    \"text\": \"From Mount Everest to Kilimanjaro, we'll take you on a journey to the roof of the world\",\n",
    "    \"image_prompt\": \"Close-up shot of Mount Everest's summit with a flag waving in the wind\"\n",
    "  },\n",
    "  \"8s-11s\": {\n",
    "    \"text\": \"Number 5: Mount Aconcagua, Argentina - The highest peak outside Asia at 22,841ft\",\n",
    "    \"image_prompt\": \"Panoramic view of Mount Aconcagua, with a snow-capped summit and surrounding mountains\"\n",
    "  },\n",
    "  \"12s-15s\": {\n",
    "    \"text\": \"Number 4: K2, Pakistan/China - The second-highest peak in the world at 28,251ft\",\n",
    "    \"image_prompt\": \"Dramatic shot of K2's rugged terrain, with snow and ice-covered peaks\"\n",
    "  },\n",
    "  \"16s-20s\": {\n",
    "    \"text\": \"Number 3: Kangchenjunga, Nepal/India - The third-highest peak in the world at 28,169ft\",\n",
    "    \"image_prompt\": \"Lush green forests and towering mountains of Kangchenjunga, with a misty atmosphere\"\n",
    "  },\n",
    "  \"21s-25s\": {\n",
    "    \"text\": \"Number 2: Mount Denali, Alaska/USA - The highest peak in North America at 20,310ft\",\n",
    "    \"image_prompt\": \"Snowy landscape of Mount Denali, with a majestic glacier and surrounding peaks\"\n",
    "  },\n",
    "  \"26s-30s\": {\n",
    "    \"text\": \"And the number one spot goes to... Mount Everest! The highest peak in the world at 29,029ft\",\n",
    "    \"image_prompt\": \"Iconic shot of Mount Everest's summit, with a flag waving in the wind and a breathtaking view\"\n",
    "  }\n",
    "}\n",
    "\n",
    "# Parameters\n",
    "output_file = \"highest_places_video.mp4\"\n",
    "fps = 24  # Frame rate\n",
    "transition_duration = 1  # Transition duration in seconds\n",
    "\n",
    "# Function to extract timestamps\n",
    "def get_time_range(timestamp):\n",
    "    \"\"\"Extract start, end, and duration from the timestamp.\"\"\"\n",
    "    start, end = timestamp.split('-')\n",
    "    start_sec = int(start[:-1])\n",
    "    end_sec = int(end[:-1])\n",
    "    duration = end_sec - start_sec\n",
    "    return start_sec, end_sec, duration\n",
    "\n",
    "# Create list to hold the clips\n",
    "clips = []\n",
    "\n",
    "# Generate video clips from the images\n",
    "for timestamp, data in video_script.items():\n",
    "    image_path = f\"files/{timestamp}.jpg\"  # Image filename based on timestamp\n",
    "    audio_path = f\"files/{timestamp}.mp3\"\n",
    "    start, end, duration = get_time_range(timestamp)\n",
    "\n",
    "    if not os.path.exists(image_path):\n",
    "        print(f\"⚠️ Warning: {image_path} not found.\")\n",
    "        continue\n",
    "\n",
    "    # Create image clip\n",
    "    \n",
    "    audio_clip = AudioFileClip(audio_path)\n",
    "    duration = audio_clip.duration + 1\n",
    "    img_clip = ImageClip(image_path).with_duration(duration).with_duration(duration)\n",
    "\n",
    "    print(timestamp, duration)\n",
    "\n",
    "    # Add text overlay\n",
    "    txt_clip = TextClip(\n",
    "        method = \"caption\",\n",
    "        text=data['text'],\n",
    "        transparent = True,\n",
    "        font_size=40,\n",
    "        margin = (0, 10),\n",
    "        color='white',\n",
    "        bg_color=\"black\",\n",
    "        size=(img_clip.w-100, None),\n",
    "        font=\"./arial.ttf\",\n",
    "        text_align=\"center\",\n",
    "    ).with_duration(duration).with_position(('center', 'bottom'))\n",
    "\n",
    "    # Combine image and text into one clip\n",
    "    final_clip = CompositeVideoClip([img_clip, txt_clip]).with_duration(duration).with_audio(audio_clip)\n",
    "\n",
    "    # Append the clip to the list\n",
    "    clips.append(final_clip)\n",
    "\n",
    "# Apply crossfade transitions between clips\n",
    "# Using padding to create a crossfade effect\n",
    "final_video = concatenate_videoclips(clips, padding=-transition_duration, method=\"compose\")\n",
    "\n",
    "# Export the final video\n",
    "final_video.write_videofile(output_file, fps=fps, codec='libx264')\n",
    "# final_video.write_videofile(\n",
    "#     output_file,\n",
    "#     fps=fps,\n",
    "#     codec='libx264',\n",
    "#     audio_codec='aac',  # Use AAC codec to avoid compatibility issues\n",
    "#     threads=1  # Disable multithreading for stability\n",
    "# )\n",
    "\n",
    "print(f\"✅ Video saved as {output_file}\")\n"
   ]
  },
  {
   "cell_type": "markdown",
   "metadata": {},
   "source": [
    "### TTS Testing"
   ]
  },
  {
   "cell_type": "code",
   "execution_count": 20,
   "metadata": {},
   "outputs": [
    {
     "name": "stdout",
     "output_type": "stream",
     "text": [
      "Collecting gTTS\n",
      "  Downloading gTTS-2.5.4-py3-none-any.whl.metadata (4.1 kB)\n",
      "Requirement already satisfied: requests<3,>=2.27 in c:\\users\\ashis\\miniconda3\\envs\\autogen\\lib\\site-packages (from gTTS) (2.32.3)\n",
      "Requirement already satisfied: click<8.2,>=7.1 in c:\\users\\ashis\\miniconda3\\envs\\autogen\\lib\\site-packages (from gTTS) (8.1.8)\n",
      "Requirement already satisfied: colorama in c:\\users\\ashis\\miniconda3\\envs\\autogen\\lib\\site-packages (from click<8.2,>=7.1->gTTS) (0.4.6)\n",
      "Requirement already satisfied: charset-normalizer<4,>=2 in c:\\users\\ashis\\miniconda3\\envs\\autogen\\lib\\site-packages (from requests<3,>=2.27->gTTS) (3.4.1)\n",
      "Requirement already satisfied: idna<4,>=2.5 in c:\\users\\ashis\\miniconda3\\envs\\autogen\\lib\\site-packages (from requests<3,>=2.27->gTTS) (3.10)\n",
      "Requirement already satisfied: urllib3<3,>=1.21.1 in c:\\users\\ashis\\miniconda3\\envs\\autogen\\lib\\site-packages (from requests<3,>=2.27->gTTS) (2.3.0)\n",
      "Requirement already satisfied: certifi>=2017.4.17 in c:\\users\\ashis\\miniconda3\\envs\\autogen\\lib\\site-packages (from requests<3,>=2.27->gTTS) (2025.1.31)\n",
      "Downloading gTTS-2.5.4-py3-none-any.whl (29 kB)\n",
      "Installing collected packages: gTTS\n",
      "Successfully installed gTTS-2.5.4\n"
     ]
    }
   ],
   "source": [
    "!pip install gTTS"
   ]
  },
  {
   "cell_type": "code",
   "execution_count": 17,
   "metadata": {},
   "outputs": [],
   "source": [
    "from pyt2s.services import stream_elements\n"
   ]
  },
  {
   "cell_type": "code",
   "execution_count": 21,
   "metadata": {},
   "outputs": [],
   "source": [
    "text = \"A calendar with marked appointments and deadlines, surrounded by productivity symbols like clocks and briefcas.\""
   ]
  },
  {
   "cell_type": "code",
   "execution_count": 19,
   "metadata": {},
   "outputs": [],
   "source": [
    "# Default Voice\n",
    "# data = stream_elements.requestTTS('Lorem Ipsum is simply dummy text.')\n",
    "\n",
    "# Custom Voice\n",
    "data = stream_elements.requestTTS('A calendar with marked appointments and deadlines, surrounded by productivity symbols like clocks and briefcas.', stream_elements.Voice.Russell.value)\n",
    "\n",
    "with open('output.mp3', '+wb') as file:\n",
    "    file.write(data)"
   ]
  },
  {
   "cell_type": "code",
   "execution_count": 22,
   "metadata": {},
   "outputs": [],
   "source": [
    "from gtts import gTTS\n",
    "tts = gTTS(text)\n",
    "tts.save('hello.mp3')"
   ]
  },
  {
   "cell_type": "code",
   "execution_count": 23,
   "metadata": {},
   "outputs": [
    {
     "data": {
      "text/plain": [
       "111"
      ]
     },
     "execution_count": 23,
     "metadata": {},
     "output_type": "execute_result"
    }
   ],
   "source": [
    "len(text)"
   ]
  },
  {
   "cell_type": "markdown",
   "metadata": {},
   "source": [
    "## Eleven Labs\n"
   ]
  },
  {
   "cell_type": "code",
   "execution_count": 24,
   "metadata": {},
   "outputs": [
    {
     "name": "stdout",
     "output_type": "stream",
     "text": [
      "Requirement already satisfied: elevenlabs in c:\\users\\ashis\\miniconda3\\envs\\autogen\\lib\\site-packages (1.54.0)\n",
      "Requirement already satisfied: httpx>=0.21.2 in c:\\users\\ashis\\miniconda3\\envs\\autogen\\lib\\site-packages (from elevenlabs) (0.28.1)\n",
      "Requirement already satisfied: pydantic>=1.9.2 in c:\\users\\ashis\\miniconda3\\envs\\autogen\\lib\\site-packages (from elevenlabs) (2.10.6)\n",
      "Requirement already satisfied: pydantic-core<3.0.0,>=2.18.2 in c:\\users\\ashis\\miniconda3\\envs\\autogen\\lib\\site-packages (from elevenlabs) (2.27.2)\n",
      "Requirement already satisfied: requests>=2.20 in c:\\users\\ashis\\miniconda3\\envs\\autogen\\lib\\site-packages (from elevenlabs) (2.32.3)\n",
      "Requirement already satisfied: typing_extensions>=4.0.0 in c:\\users\\ashis\\miniconda3\\envs\\autogen\\lib\\site-packages (from elevenlabs) (4.12.2)\n",
      "Requirement already satisfied: websockets>=11.0 in c:\\users\\ashis\\miniconda3\\envs\\autogen\\lib\\site-packages (from elevenlabs) (15.0.1)\n",
      "Requirement already satisfied: anyio in c:\\users\\ashis\\miniconda3\\envs\\autogen\\lib\\site-packages (from httpx>=0.21.2->elevenlabs) (4.9.0)\n",
      "Requirement already satisfied: certifi in c:\\users\\ashis\\miniconda3\\envs\\autogen\\lib\\site-packages (from httpx>=0.21.2->elevenlabs) (2025.1.31)\n",
      "Requirement already satisfied: httpcore==1.* in c:\\users\\ashis\\miniconda3\\envs\\autogen\\lib\\site-packages (from httpx>=0.21.2->elevenlabs) (1.0.7)\n",
      "Requirement already satisfied: idna in c:\\users\\ashis\\miniconda3\\envs\\autogen\\lib\\site-packages (from httpx>=0.21.2->elevenlabs) (3.10)\n",
      "Requirement already satisfied: h11<0.15,>=0.13 in c:\\users\\ashis\\miniconda3\\envs\\autogen\\lib\\site-packages (from httpcore==1.*->httpx>=0.21.2->elevenlabs) (0.14.0)\n",
      "Requirement already satisfied: annotated-types>=0.6.0 in c:\\users\\ashis\\miniconda3\\envs\\autogen\\lib\\site-packages (from pydantic>=1.9.2->elevenlabs) (0.7.0)\n",
      "Requirement already satisfied: charset-normalizer<4,>=2 in c:\\users\\ashis\\miniconda3\\envs\\autogen\\lib\\site-packages (from requests>=2.20->elevenlabs) (3.4.1)\n",
      "Requirement already satisfied: urllib3<3,>=1.21.1 in c:\\users\\ashis\\miniconda3\\envs\\autogen\\lib\\site-packages (from requests>=2.20->elevenlabs) (2.3.0)\n",
      "Requirement already satisfied: sniffio>=1.1 in c:\\users\\ashis\\miniconda3\\envs\\autogen\\lib\\site-packages (from anyio->httpx>=0.21.2->elevenlabs) (1.3.1)\n"
     ]
    }
   ],
   "source": [
    "!pip install elevenlabs"
   ]
  },
  {
   "cell_type": "code",
   "execution_count": 40,
   "metadata": {},
   "outputs": [
    {
     "data": {
      "text/plain": [
       "True"
      ]
     },
     "execution_count": 40,
     "metadata": {},
     "output_type": "execute_result"
    }
   ],
   "source": [
    "from dotenv import load_dotenv\n",
    "from elevenlabs.client import ElevenLabs\n",
    "from elevenlabs import play ,save\n",
    "\n",
    "load_dotenv()\n",
    "\n"
   ]
  },
  {
   "cell_type": "code",
   "execution_count": 42,
   "metadata": {},
   "outputs": [],
   "source": [
    "client = ElevenLabs(\n",
    "  api_key=os.getenv(\"ELEVENLABS_API_KEY\"),\n",
    ")\n",
    "audio = client.text_to_speech.convert(\n",
    "    text=\"The first.\",\n",
    "    voice_id=\"JBFqnCBsd6RMkjVDRZzb\",\n",
    "    model_id=\"eleven_multilingual_v2\",\n",
    "    output_format=\"mp3_44100_128\",\n",
    ")\n",
    "\n",
    "save( audio, \"sample.mp3\",)"
   ]
  },
  {
   "cell_type": "code",
   "execution_count": null,
   "metadata": {},
   "outputs": [],
   "source": []
  }
 ],
 "metadata": {
  "kernelspec": {
   "display_name": "autogen",
   "language": "python",
   "name": "python3"
  },
  "language_info": {
   "codemirror_mode": {
    "name": "ipython",
    "version": 3
   },
   "file_extension": ".py",
   "mimetype": "text/x-python",
   "name": "python",
   "nbconvert_exporter": "python",
   "pygments_lexer": "ipython3",
   "version": "3.13.2"
  }
 },
 "nbformat": 4,
 "nbformat_minor": 2
}
